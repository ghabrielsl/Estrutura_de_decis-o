{
 "cells": [
  {
   "cell_type": "code",
   "execution_count": 7,
   "id": "98eab8ae",
   "metadata": {},
   "outputs": [
    {
     "name": "stdout",
     "output_type": "stream",
     "text": [
      "Digite o primeiro número: 2\n",
      "Digite o segundo número: 3\n",
      "3 É maior que 2\n"
     ]
    }
   ],
   "source": [
    "\"\"\"\n",
    "1 - Faça um Programa que peça dois números e imprima o maior deles.\n",
    "\"\"\"\n",
    "\n",
    "n1 = int(input('Digite o primeiro número: '))\n",
    "n2 = int(input('Digite o segundo número: '))\n",
    "if n1 == n2:\n",
    "    print('Os dois números são iguais:', n1)\n",
    "elif n1 > n2:\n",
    "    print(n1,'é o maior número')\n",
    "else:\n",
    "    print(n2,'é maior que',n1)"
   ]
  },
  {
   "cell_type": "code",
   "execution_count": 15,
   "id": "379127e4",
   "metadata": {},
   "outputs": [
    {
     "name": "stdout",
     "output_type": "stream",
     "text": [
      "Digite um número: 45685.65\n",
      "45685.65 é um número positivo.\n"
     ]
    }
   ],
   "source": [
    "\"\"\"\n",
    "2 - Faça um Programa que peça um valor e mostre na tela se o valor é positivo ou negativo.\n",
    "\"\"\"\n",
    "\n",
    "valor = float(input('Digite um número: '))\n",
    "if type(valor) == int or type(valor) == float:\n",
    "    if valor >= 0:\n",
    "        print(f'{valor} é um número positivo.')\n",
    "    else:\n",
    "        print(f'{valor} é um número negativo.')\n",
    "else:\n",
    "    print('ERRO: Digite apenas números')\n",
    "    "
   ]
  },
  {
   "cell_type": "code",
   "execution_count": 28,
   "id": "06f167d1",
   "metadata": {},
   "outputs": [
    {
     "name": "stdout",
     "output_type": "stream",
     "text": [
      "Digite F ou M:m\n",
      "Masculino\n"
     ]
    }
   ],
   "source": [
    "\"\"\"\n",
    "3 - Faça um Programa que verifique se uma letra digitada é \"F\" ou \"M\". Conforme a letra escrever: F - Feminino, M - Masculino, Sexo Inválido. \n",
    "\"\"\"\n",
    "\n",
    "letra = input('Digite F ou M:')\n",
    "if letra == 'M' or letra == 'm':\n",
    "    print('Masculino')\n",
    "elif letra =='F' or letra == 'f':\n",
    "    print('Feminino')\n",
    "else:\n",
    "    print('Sexo Inválido')"
   ]
  },
  {
   "cell_type": "code",
   "execution_count": 34,
   "id": "b7eeeb22",
   "metadata": {},
   "outputs": [
    {
     "name": "stdout",
     "output_type": "stream",
     "text": [
      "Verifique se uma letra é vogal ou consoante\n",
      "Digite uma letra: k\n",
      "\n",
      "A letra \"k\" é uma Consoante\n"
     ]
    }
   ],
   "source": [
    "\"\"\"\n",
    "4 - Faça um Programa que verifique se uma letra digitada é vogal ou consoante.\n",
    "\"\"\"\n",
    "print('Verifique se uma letra é vogal ou consoante')\n",
    "\n",
    "letra = input('Digite uma letra: ')\n",
    "\n",
    "if letra =='A' or letra =='a' or letra =='E' or letra =='e' or letra =='I' or letra =='i' \\\n",
    "or letra =='O' or letra =='o' or letra == 'U' or letra =='u':\n",
    "    print(f'A letra \"{letra}\" é uma Vogal')\n",
    "else:\n",
    "          print(f'A letra \"{letra}\" é uma Consoante')"
   ]
  },
  {
   "cell_type": "code",
   "execution_count": 7,
   "id": "f7ed564e",
   "metadata": {},
   "outputs": [
    {
     "name": "stdout",
     "output_type": "stream",
     "text": [
      "Insira a primeira nota: 3\n",
      "Insira a segunda nota: 3\n",
      "Nota: 6.0. O aluno foi reprovado\n"
     ]
    }
   ],
   "source": [
    "\"\"\"\n",
    "5 - Faça um programa para a leitura de duas notas parciais de um aluno.\n",
    "O programa deve calcular a média alcançada por aluno e apresentar:\n",
    "\n",
    "    A mensagem \"Aprovado\", se a média alcançada for maior ou igual a sete;\n",
    "    A mensagem \"Reprovado\", se a média for menor do que sete;\n",
    "    A mensagem \"Aprovado com Distinção\", se a média for igual a dez. \n",
    "\"\"\"\n",
    "\n",
    "nota1 = float(input('Insira a primeira nota: '))\n",
    "nota2 = float(input('Insira a segunda nota: '))\n",
    "media = nota1+nota2\n",
    "\n",
    "if media >= 7 and media < 10:\n",
    "    print(f'Nota: {media}. O aluno foi aprovado')\n",
    "elif media < 7:\n",
    "    print(f'Nota: {media}. O aluno foi reprovado')\n",
    "elif media > 10:\n",
    "    print(f'Nota: {media}. O aluno foi aprovado com distinção')\n",
    "else:\n",
    "    print('Erro ao calcular a nota. Tente novamente')\n"
   ]
  },
  {
   "cell_type": "code",
   "execution_count": 25,
   "id": "0dbf274e",
   "metadata": {},
   "outputs": [
    {
     "name": "stdout",
     "output_type": "stream",
     "text": [
      "Digite o primeiro número: 9\n",
      "Digite o segundo número: 9\n",
      "Digite o terceiro número: 9\n",
      "Todos os números são iguais\n"
     ]
    }
   ],
   "source": [
    "\"\"\"\n",
    "6 - Faça um Programa que leia três números e mostre o maior deles. \n",
    "\"\"\"\n",
    "n1 = float(input('Digite o primeiro número: '))\n",
    "n2 = float(input('Digite o segundo número: '))\n",
    "n3 = float(input('Digite o terceiro número: '))\n",
    "\n",
    "if n1 == n2 and n2 == n3:\n",
    "    print('Todos os números são iguais')\n",
    "elif n1 > n2 and n1 > n3:\n",
    "    print(n1, 'é o maior número.')\n",
    "elif n2 > n1 and n2 > n3:\n",
    "    print(n2, 'é o maior número.')\n",
    "else:\n",
    "    print(n3, 'é o maior número')   "
   ]
  },
  {
   "cell_type": "code",
   "execution_count": 2,
   "id": "9df717cf",
   "metadata": {},
   "outputs": [
    {
     "name": "stdout",
     "output_type": "stream",
     "text": [
      "Digite o primeiro número: 6\n",
      "Digite o segundo número: 6\n",
      "Digite o terceiro número: 6\n",
      "Todos os números são iguais\n",
      "Todos os números são iguais\n"
     ]
    }
   ],
   "source": [
    "\"\"\"\n",
    "7 - Faça um Programa que leia três números e mostre o maior e o menor deles. \n",
    "\"\"\"\n",
    "\n",
    "n1 = float(input('Digite o primeiro número: '))\n",
    "n2 = float(input('Digite o segundo número: '))\n",
    "n3 = float(input('Digite o terceiro número: '))\n",
    "\n",
    "if n1 == n2 and n2 == n3:\n",
    "    print('Todos os números são iguais')\n",
    "    \n",
    "#  maior número\n",
    "elif n1 > n2 and n1 > n3:\n",
    "    print(n1, 'é o maior número.')\n",
    "elif n2 > n1 and n2 > n3:\n",
    "    print(n2, 'é o maior número.')\n",
    "else:\n",
    "    print(n3, 'é o maior número')\n",
    "    \n",
    "#  menor número\n",
    "if n1 == n2 and n2 == n3:\n",
    "    print('Todos os números são iguais')\n",
    "elif n1 < n2 and n1 < n3:\n",
    "    print(n1, 'é o menor número')\n",
    "elif n2 < n1 and n2 < n3:\n",
    "    print(n2, 'é o menor número')\n",
    "else:\n",
    "    print(n3, 'é o menor número')"
   ]
  },
  {
   "cell_type": "code",
   "execution_count": 12,
   "id": "4c11e3ec",
   "metadata": {},
   "outputs": [
    {
     "name": "stdout",
     "output_type": "stream",
     "text": [
      "Informe o valor do produto 1: 3\n",
      "Informe o valor do produto 2: 3\n",
      "Informe o valor do produto 3: 1\n",
      "Compre o produto 3, ele é o mais barato.\n"
     ]
    }
   ],
   "source": [
    "\"\"\"\n",
    "8 - Faça um programa que pergunte o preço de três produtos e informe qual produto você deve comprar, \n",
    "sabendo que a decisão é sempre pelo mais barato. \n",
    "\"\"\"\n",
    "prd1 = float(input('Informe o valor do produto 1: '))\n",
    "prd2 = float(input('Informe o valor do produto 2: '))\n",
    "prd3 = float(input('Informe o valor do produto 3: '))\n",
    "\n",
    "if prd1 == prd2 and prd2 == prd3:\n",
    "    print('Todos os produtos tem o mesmo valor.')\n",
    "elif prd1 < prd2 and prd2 <= prd3:\n",
    "    print('Compre o produto 1, ele é o mais barato.')\n",
    "elif prd2 < prd1 and prd1 <= prd3:\n",
    "    print('Compre o produto 2, ele é o mais barato.')\n",
    "else:\n",
    "    print('Compre o produto 3, ele é o mais barato.')"
   ]
  },
  {
   "cell_type": "code",
   "execution_count": 10,
   "id": "a4563fae",
   "metadata": {},
   "outputs": [
    {
     "name": "stdout",
     "output_type": "stream",
     "text": [
      "Número 1: 5\n",
      "Número 2: 5\n",
      "Número 3: 5\n",
      "[5.0, 5.0, 5.0]\n"
     ]
    }
   ],
   "source": [
    "\"\"\"\n",
    "9 - Faça um Programa que leia três números e mostre-os em ordem decrescente. \n",
    "\"\"\"\n",
    "numeros = []\n",
    "n1 = float(input('Número 1: '))\n",
    "numeros.append(n1)\n",
    "n2 = float(input('Número 2: '))\n",
    "numeros.append(n2)\n",
    "n3 = float(input('Número 3: '))\n",
    "numeros.append(n3)\n",
    "\n",
    "numeros.sort(reverse= True)\n",
    "print(numeros)\n"
   ]
  },
  {
   "cell_type": "code",
   "execution_count": 19,
   "id": "e20add34",
   "metadata": {},
   "outputs": [
    {
     "name": "stdout",
     "output_type": "stream",
     "text": [
      "Em qual turno você estuda?\n",
      "Digite M para Matutino, V para Vespertino ou N para Noite: 2\n",
      "Valor Inválido!\n"
     ]
    }
   ],
   "source": [
    "\"\"\"\n",
    "10 - Faça um Programa que pergunte em que turno você estuda. Peça para digitar M-matutino ou V-Vespertino ou N- Noturno.\n",
    "Imprima a mensagem \"Bom Dia!\", \"Boa Tarde!\" ou \"Boa Noite!\" ou \"Valor Inválido!\", conforme o caso. \n",
    "\"\"\"\n",
    "\n",
    "print('Em qual turno você estuda?')\n",
    "turno = input('Digite M para Matutino, V para Vespertino ou N para Noite: ')\n",
    "if turno == 'M' or turno == 'm':\n",
    "    print('Bom Dia!')\n",
    "elif turno == 'V' or turno == 'v':\n",
    "    print('Boa Tarde!')\n",
    "elif turno == 'N' or turno == 'n':\n",
    "    print('Boa Noite!')\n",
    "else:\n",
    "    print('Valor Inválido!')"
   ]
  },
  {
   "cell_type": "code",
   "execution_count": 41,
   "id": "5c98a1c7",
   "metadata": {},
   "outputs": [
    {
     "name": "stdout",
     "output_type": "stream",
     "text": [
      "Salário atual: 2000\n",
      "Salário antes do reajuste: R$2000.0\n",
      "Porcentagem de aumento: 5%\n",
      "Valor do aumento: R$100.0\n",
      "O novo salário é: R$2100.0\n"
     ]
    }
   ],
   "source": [
    "\"\"\"\n",
    "11 - As Organizações Tabajara resolveram dar um aumento de salário aos seus colaboradores e lhe contraram para desenvolver\n",
    "o programa que calculará os reajustes.\n",
    "\n",
    "Faça um programa que recebe o salário de um colaborador e o reajuste segundo o seguinte critério, baseado no salário atual: \n",
    "- salários até R$ 280,00 (incluindo) : aumento de 20%\n",
    "- salários entre R$ 280,00 e R$ 700,00 : aumento de 15% \n",
    "- salários entre R$ 700,00 e R$ 1500,00 : aumento de 10% \n",
    "- salários de R$ 1500,00 em diante : aumento de 5% \n",
    "Após o aumento ser realizado, informe na tela: \n",
    "- o salário antes do reajuste;\n",
    "- o percentual de aumento aplicado;\n",
    "- o valor do aumento;\n",
    "- o novo salário, após o aumento. \n",
    "\"\"\"\n",
    "\n",
    "salario = float(input('Salário atual: '))\n",
    "# aumentos\n",
    "if salario <= 280:\n",
    "    porcento = 20\n",
    "elif salario <= 700:\n",
    "    porcento = 15\n",
    "elif salario <= 1500:\n",
    "    porcento = 10\n",
    "else:\n",
    "    porcento = 5\n",
    "    \n",
    "\n",
    "porcentagem = porcento/100\n",
    "aumento = porcentagem * salario\n",
    "novosalario = salario + aumento\n",
    "\n",
    "print(f'Salário antes do reajuste: R${salario}')\n",
    "print(f'Porcentagem de aumento: {porcento}%')\n",
    "print(f'Valor do aumento: R${aumento}')\n",
    "print(f'O novo salário é: R${novosalario}') \n",
    "\n"
   ]
  },
  {
   "cell_type": "code",
   "execution_count": 10,
   "id": "0d5ca0eb",
   "metadata": {},
   "outputs": [
    {
     "name": "stdout",
     "output_type": "stream",
     "text": [
      "Quanto você recebe por hora? 90\n",
      "Quantas horas você trabalhou no mês? 10\n",
      "Salário Bruto: (90.0 * 10.0)        : R$900.0\n",
      "(-) IR (0%)                          : R$0.0\n",
      "(-) INSS (10%)                       : R$90.0\n",
      "FGTS(11%)                            : R$99.0\n",
      "Total de descontos                   : R$90.0\n",
      "Salário Liquido                      : R$810.0\n"
     ]
    }
   ],
   "source": [
    "\"\"\"\n",
    "12 - Faça um programa para o cálculo de uma folha de pagamento, sabendo que os descontos são do Imposto de Renda, que depende\n",
    "do salário bruto (conforme tabela abaixo) e 3% para o Sindicato e que o FGTS corresponde a 11% do Salário Bruto, mas não é\n",
    "descontado (é a empresa que deposita). O Salário Líquido corresponde ao Salário Bruto menos os descontos.\n",
    "O programa deverá pedir ao usuário o valor da sua hora e a quantidade de horas trabalhadas no mês. \n",
    "- Desconto do IR:\n",
    "- Salário Bruto até 900 (inclusive) - isento\n",
    "- Salário Bruto até 1500 (inclusive) - desconto de 5%\n",
    "- Salário Bruto até 2500 (inclusive) - desconto de 10%\n",
    "- Salário Bruto acima de 2500 - desconto de 20% \n",
    "Imprima na tela as informações, dispostas conforme o exemplo abaixo.\n",
    "No exemplo o valor da hora é 5 e a quantidade de hora é 220. \n",
    "\n",
    "        Salário Bruto: (5 * 220)        : R$ 1100,00\n",
    "        (-) IR (5%)                     : R$   55,00  \n",
    "        (-) INSS ( 10%)                 : R$  110,00\n",
    "        FGTS (11%)                      : R$  121,00\n",
    "        Total de descontos              : R$  165,00\n",
    "        Salário Liquido                 : R$  935,00\n",
    "\"\"\"\n",
    "horas = float(input('Quanto você recebe por hora? '))\n",
    "qtdhoras = float(input('Quantas horas você trabalhou no mês? '))\n",
    "salariobruto = horas * qtdhoras\n",
    "IR = salariobruto * 0\n",
    "INSS = salariobruto*0.10\n",
    "FGTS = salariobruto*0.11\n",
    "if salariobruto <= 900:\n",
    "    IR = salariobruto * 0\n",
    "    ir = '0%'\n",
    "elif salariobruto <= 1500:\n",
    "    IR = salariobruto * 0.05\n",
    "    ir = '5%'\n",
    "elif salariobruto <= 2500:\n",
    "    IR = salariobruto * 0.10\n",
    "    ir = '10%'\n",
    "else:\n",
    "    IR = salariobruto * 0.20\n",
    "    ir = '20%'\n",
    "\n",
    "descontos = IR + INSS\n",
    "salario = salariobruto - descontos\n",
    "print(f'Salário Bruto: ({horas} * {qtdhoras})        : R${salariobruto}')\n",
    "print(f'(-) IR ({ir})                          : R${IR}')\n",
    "print(f'(-) INSS (10%)                       : R${INSS}')\n",
    "print(f'FGTS(11%)                            : R${FGTS}')\n",
    "print(f'Total de descontos                   : R${descontos}')\n",
    "print(f'Salário Liquido                      : R${salario}')"
   ]
  },
  {
   "cell_type": "code",
   "execution_count": 12,
   "id": "3a38028d",
   "metadata": {},
   "outputs": [
    {
     "name": "stdout",
     "output_type": "stream",
     "text": [
      "Digite um número de 1 a 7 para ver o dia da semana.\n",
      "Número: 2\n",
      "2 - Segunda\n"
     ]
    }
   ],
   "source": [
    "\"\"\"\n",
    "13 - Faça um Programa que leia um número e exiba o dia correspondente da semana. (1-Domingo, 2- Segunda, etc.),\n",
    "se digitar outro valor deve aparecer valor inválido. \n",
    "\"\"\"\n",
    "\n",
    "print('Digite um número de 1 a 7 para ver o dia da semana.')\n",
    "dia = int(input('Número: '))\n",
    "if dia == 1:\n",
    "    print('1 - Domingo')\n",
    "elif dia == 2:\n",
    "    print('2 - Segunda')\n",
    "elif dia == 3:\n",
    "    print('3 - Terça')\n",
    "elif dia == 4:\n",
    "    print('4 - Quarta')\n",
    "elif dia == 5:\n",
    "    print('5 - Quinta')\n",
    "elif dia == 6:\n",
    "    print('6 - Sexta')\n",
    "elif dia == 7:\n",
    "    print('7 - Sábado')"
   ]
  },
  {
   "cell_type": "code",
   "execution_count": 7,
   "id": "79196092",
   "metadata": {},
   "outputs": [
    {
     "name": "stdout",
     "output_type": "stream",
     "text": [
      "Calculo de Notas\n",
      "Insira a primeira nota: 9\n",
      "Insira a segunda nota: 9\n",
      "Media de Aproveitamento: 9.0, Conceito: A - Aluno Aprovado\n"
     ]
    }
   ],
   "source": [
    "\"\"\"\n",
    "14 - Faça um programa que lê as duas notas parciais obtidas por um aluno numa disciplina ao longo de um semestre,\n",
    "e calcule a sua média. A atribuição de conceitos obedece à tabela abaixo:\n",
    "\n",
    "Média de Aproveitamento  Conceito\n",
    "  Entre 9.0 e 10.0        A\n",
    "  Entre 7.5 e 9.0         B\n",
    "  Entre 6.0 e 7.5         C\n",
    "  Entre 4.0 e 6.0         D\n",
    "  Entre 4.0 e zero        E\n",
    "  \n",
    "O algoritmo deve mostrar na tela as notas, a média, o conceito correspondente e a mensagem “APROVADO” se o conceito for A, B\n",
    "ou C ou “REPROVADO” se o conceito for D ou E.  \n",
    "\"\"\"\n",
    "\n",
    "print('Calculo de Notas')\n",
    "nota1 = float(input('Insira a primeira nota: '))\n",
    "nota2 = float(input('Insira a segunda nota: '))\n",
    "media = (nota1+nota2)/2\n",
    "conceito = ()\n",
    "\n",
    "\n",
    "if media >= 9:\n",
    "    conceito = 'A'\n",
    "    print(f'Media de Aproveitamento: {media}, Conceito: {conceito} - Aluno Aprovado')\n",
    "elif media >=7.5:\n",
    "    conceito = 'B'\n",
    "    print(f'Media de Aproveitamento: {media}, Conceito: {conceito} - Aluno Aprovado')\n",
    "elif media >= 6:\n",
    "    conceito = 'C'\n",
    "    print(f'Media de Aproveitamento: {media}, Conceito: {conceito} - Aluno Aprovado')\n",
    "elif media >= 4:\n",
    "    conceito = 'D'\n",
    "    print(f'Media de Aproveitamento: {media}, Conceito: {conceito} - Aluno Reprovado')\n",
    "else:\n",
    "    conceito = 'E'\n",
    "    print(f'Media de Aproveitamento: {media}, Conceito: {conceito} - Aluno Reprovado')"
   ]
  },
  {
   "cell_type": "code",
   "execution_count": 24,
   "id": "5f938c9e",
   "metadata": {},
   "outputs": [
    {
     "name": "stdout",
     "output_type": "stream",
     "text": [
      "Qual é o Lado 1? 3\n",
      "Qual é o Lado 2? 1\n",
      "Qual é o Lado 3? 3\n",
      "Triangulo Isósceles: quaisquer dois lados iguais\n"
     ]
    }
   ],
   "source": [
    "\"\"\"\n",
    "15 - Faça um Programa que peça os 3 lados de um triângulo. O programa deverá informar se os valores podem ser um triângulo.\n",
    "Indique, caso os lados formem um triângulo, se o mesmo é: equilátero, isósceles ou escaleno.\n",
    "Dicas:\n",
    "Três lados formam um triângulo quando a soma de quaisquer dois lados for maior que o terceiro;\n",
    "Triângulo Equilátero: três lados iguais;\n",
    "Triângulo Isósceles: quaisquer dois lados iguais;\n",
    "Triângulo Escaleno: três lados diferentes;\n",
    "\"\"\"\n",
    "\n",
    "L1 = float(input('Qual é o Lado 1? '))\n",
    "L2 = float(input('Qual é o Lado 2? '))\n",
    "L3 = float(input('Qual é o Lado 3? '))\n",
    "\n",
    "triangulo = ()\n",
    "\n",
    "if L1 == L2 and L2 == L3:\n",
    "    print('Triângulo Equilátero: os 3 lados são iguais')\n",
    "elif L1 == L2 or L1 == L3 or L2 == L3:\n",
    "    print('Triangulo Isósceles: quaisquer dois lados iguais')\n",
    "else:\n",
    "    print('Triângulo Escaleno: os 3 lados são diferentes')\n"
   ]
  },
  {
   "cell_type": "code",
   "execution_count": 10,
   "id": "dcca18f1",
   "metadata": {},
   "outputs": [
    {
     "name": "stdout",
     "output_type": "stream",
     "text": [
      "Digite o valor de a: 2\n",
      "Digite o valor de b: 8\n",
      "Digite o valor de c-24\n",
      "Raízes: -4.0 e -12.0\n",
      "256.0\n"
     ]
    }
   ],
   "source": [
    "\"\"\"\n",
    "16 - Faça um programa que calcule as raízes de uma equação do segundo grau, na forma ax2 + bx + c.\n",
    "O programa deverá pedir os valores de a, b e c e fazer as consistências, informando ao usuário nas seguintes situações:\n",
    "a - Se o usuário informar o valor de A igual a zero, a equação não é do segundo grau e o programa não deve fazer pedir os demais\n",
    "valores, sendo encerrado;\n",
    "b - Se o delta calculado for negativo, a equação não possui raizes reais. Informe ao usuário e encerre o programa;\n",
    "c - Se o delta calculado for igual a zero a equação possui apenas uma raiz real; informe-a ao usuário;\n",
    "d - Se o delta for positivo, a equação possui duas raiz reais; informe-as ao usuário;\n",
    "\"\"\"\n",
    "\n",
    "import math\n",
    "# Valores e variaveis\n",
    "a = int(input('Digite o valor de a: '))\n",
    "if a == 0:\n",
    "    print('A equação não é do segundo grau')\n",
    "else:\n",
    "    b = int(input('Digite o valor de b: '))\n",
    "    c = int(input('Digite o valor de c'))\n",
    "    delta = (math.pow(b,2) - (4*a*c))\n",
    "    if delta < 0:\n",
    "        print('Delta é menor que 0. A equação não possui raizes reais.')\n",
    "    elif delta == 0:\n",
    "        raiz = -((-1)*b + math.sqrt(delta))/(2*a)\n",
    "        print(f'Delta = 0, raiz = {raiz}')\n",
    "    else:\n",
    "        raiz1 = ((-1)*b + math.sqrt(delta) / (2*a))\n",
    "        raiz2 = ((-1)*b - math.sqrt(delta) / (2*a))\n",
    "        print(f'Raízes: {raiz1} e {raiz2}')\n",
    "        print(delta)"
   ]
  },
  {
   "cell_type": "code",
   "execution_count": 15,
   "id": "a51392a5",
   "metadata": {},
   "outputs": [
    {
     "name": "stdout",
     "output_type": "stream",
     "text": [
      "Digite o ano: 2011\n",
      "2011 não é um ano bissexto\n"
     ]
    }
   ],
   "source": [
    "\"\"\"\n",
    "17 Faça um Programa que peça um número correspondente a um determinado ano e em seguida informe se este ano é ou não bissexto. \n",
    "\"\"\"\n",
    "\n",
    "ano = int(input('Digite o ano: '))\n",
    "\n",
    "# ano bissexto: O número tem que se dividir igualmente por 400 e 100\n",
    "if (ano%4 == 0 and ano%100 != 0) or ano%400 == 0:\n",
    "    print(ano, 'é um ano bissexto')\n",
    "else:\n",
    "    print(ano, 'não é um ano bissexto')\n",
    "\n",
    "\n",
    "\n",
    "\n",
    "\n"
   ]
  },
  {
   "cell_type": "code",
   "execution_count": 19,
   "id": "51b037bb",
   "metadata": {},
   "outputs": [
    {
     "name": "stdout",
     "output_type": "stream",
     "text": [
      "Digite a data: \n",
      "Dia: 31\n",
      "Mês: 12\n",
      "Ano: 2000\n",
      "31/12/2000 é uma data válida\n"
     ]
    }
   ],
   "source": [
    "\"\"\"\n",
    "18 Faça um Programa que peça uma data no formato dd/mm/aaaa e determine se a mesma é uma data válida. \n",
    "\"\"\"\n",
    "\n",
    "print('Digite a data: ')\n",
    "dd = int(input('Dia: '))\n",
    "if dd <= 31:\n",
    "    mm = int(input('Mês: '))\n",
    "    if mm <= 12:\n",
    "        aaaa = int(input('Ano: '))\n",
    "        print(f'{dd}/{mm}/{aaaa} é uma data válida')\n",
    "else:\n",
    "    print('Data Inválida')\n"
   ]
  },
  {
   "cell_type": "code",
   "execution_count": 38,
   "id": "8ad14966",
   "metadata": {},
   "outputs": [
    {
     "name": "stdout",
     "output_type": "stream",
     "text": [
      "Digite um numero inteiro menor que 1000: 7\n",
      "7 unidades\n"
     ]
    }
   ],
   "source": [
    "\"\"\"\n",
    "19 - Faça um Programa que leia um número inteiro menor que 1000 e imprima a quantidade de centenas, dezenas e unidades do mesmo. \n",
    "Observando os termos no plural a colocação do \"e\", da vírgula entre outros. Exemplo:\n",
    "326 = 3 centenas, 2 dezenas e 6 unidades\n",
    "12 = 1 dezena e 2 unidades\n",
    "Testar com: 326, 300, 100, 320, 310,305, 301, 101, 311, 111, 25, 20, 10, 21, 11, 1, 7 e 16 \n",
    "\"\"\"\n",
    "\n",
    "# leia um número inteiro menor que 1000\n",
    "numero = int(input('Digite um numero inteiro menor que 1000: '))\n",
    "if numero > 999:\n",
    "    print('Número inválido')\n",
    "else:\n",
    "    centena = numero // 100 #  dividir a centena inteira\n",
    "    numero -= centena * 100 #  remover do numero\n",
    "    dezena = numero // 10 #  dividir a dezena inteira\n",
    "    numero -= dezena * 10 #  remover do número\n",
    "    unidade = numero #  o restante\n",
    "    if centena > 0 and dezena > 0 and unidade > 0:\n",
    "        separador1 = ' , '\n",
    "        separador2 = ' e '\n",
    "    elif centena > 0 and dezena > 0:\n",
    "        separador1 = ' e '\n",
    "        separador2 = ''\n",
    "    elif (centena > 0 and unidade > 0) or (dezena > 0 and unidade > 0):\n",
    "        separador1 = ''\n",
    "        separador2 = ' e '\n",
    "    elif centena == 0 and dezena == 0 and unidade > 1:\n",
    "        separador1 = ''\n",
    "        separador2 = ''\n",
    "    elif unidade == 0:\n",
    "        separador2 = ''\n",
    "    if centena > 0:\n",
    "        if centena == 1:\n",
    "            centena = '1 centena'\n",
    "        else:\n",
    "            centena = f'{centena} centenas'\n",
    "    else:\n",
    "        centena = ''\n",
    "    if dezena > 0:\n",
    "        if dezena == 1:\n",
    "            dezena = '1 dezena'\n",
    "        else:\n",
    "            dezena = f'{dezena} dezenas'\n",
    "    else:\n",
    "        dezena = ''\n",
    "    if unidade > 0:\n",
    "        if unidade == 1:\n",
    "            unidade = '1 unidade'\n",
    "        else:\n",
    "            unidade = f'{unidade} unidades'\n",
    "    else:\n",
    "        unidade = ''\n",
    "        \n",
    "    print(f'{centena}{separador1}{dezena}{separador2}{unidade}')"
   ]
  },
  {
   "cell_type": "code",
   "execution_count": 54,
   "id": "26fd4210",
   "metadata": {},
   "outputs": [
    {
     "name": "stdout",
     "output_type": "stream",
     "text": [
      "Insira a primeira nota: 10\n",
      "Insira a segunda nota: 10\n",
      "Insira a terceira nota: 10\n",
      "Aluno Aprovado\n"
     ]
    }
   ],
   "source": [
    "\"\"\"\n",
    "20 - Faça um Programa para leitura de três notas parciais de um aluno.\n",
    "O programa deve calcular a média alcançada por aluno e presentar: \n",
    "A mensagem \"Aprovado\", se a média for maior ou igual a 7, com a respectiva média alcançada;\n",
    "A mensagem \"Reprovado\", se a média for menor do que 7, com a respectiva média alcançada;\n",
    "A mensagem \"Aprovado com Distinção\", se a média for igual a 10. \n",
    "\"\"\"\n",
    "#  notas parciais\n",
    "nota1 = float(input('Insira a primeira nota: '))\n",
    "nota2 = float(input('Insira a segunda nota: '))\n",
    "nota3 = float(input('Insira a terceira nota: '))\n",
    "\n",
    "media = (nota1 + nota2 + nota3)/3\n",
    "\n",
    "if media >= 7:\n",
    "    print(\"Aluno Aprovado! Média: \",media)\n",
    "elif media < 7:\n",
    "    print(\"Aluno Reprovado! Média: \", media)\n",
    "else:\n",
    "    print(\"Aluno Aprovado com Distinção! M\")"
   ]
  },
  {
   "cell_type": "code",
   "execution_count": 101,
   "id": "142a19eb",
   "metadata": {},
   "outputs": [
    {
     "name": "stdout",
     "output_type": "stream",
     "text": [
      "Digite o valor do saque [de R$10 a R$600]: 499\n",
      "4 notas de 100\n",
      "1 nota de 50\n",
      "4 notas de 10\n",
      "1 nota de 5\n",
      "4 notas de 1\n"
     ]
    }
   ],
   "source": [
    "\"\"\"\n",
    "21 - Faça um Programa para um caixa eletrônico. O programa deverá perguntar ao usuário a valor do saque e depois informar quantas\n",
    "notas de cada valor serão fornecidas. As notas disponíveis serão as de 1, 5, 10, 50 e 100 reais. O valor mínimo é de 10 reais\n",
    "e o máximo de 600 reais. O programa não deve se preocupar com a quantidade de notas existentes na máquina. \n",
    "Exemplo 1: Para sacar a quantia de 256 reais, o programa fornece duas notas de 100, uma nota de 50, uma nota de 5 e uma nota de 1;\n",
    "Exemplo 2: Para sacar a quantia de 399 reais, o programa fornece três notas de 100, uma nota de 50, quatro notas de 10, uma\n",
    "nota de 5 e quatro notas de 1. \n",
    "\n",
    "\"\"\"\n",
    "# Perguntar ao usuário o valor do saque:\n",
    "saque = int(input(r'Digite o valor do saque [de R$10 a R$600]: '))\n",
    "if saque < 10 or saque > 600:\n",
    "    print('Valor Inválido')\n",
    "else:\n",
    "    cem = saque // 100  #  nota de 100 com a divisão pelo valor da nota\n",
    "    saque -= cem * 100  #  retirando a quantia do valor do saque\n",
    "    cinquenta = saque // 50 #  nota de 50 com a divisão pelo valor da nota\n",
    "    saque -= cinquenta * 50 #  retirando a quantida do valor do saque (e assim por diante)\n",
    "    dez = saque // 10\n",
    "    saque -= dez * 10\n",
    "    cinco = saque // 5\n",
    "    saque -= cinco * 5\n",
    "    um = saque\n",
    "    \n",
    "    if cem > 1:\n",
    "        print(f'{cem} notas de 100')\n",
    "    elif cem == 1:\n",
    "        print(f'{cem} nota de 100')\n",
    "        # IF e ELIF para plural e singular (é opcional, só deixei porque fica mais bonito kkk)\n",
    "    if cinquenta > 1:\n",
    "        print(f'{cinquenta} notas de 50')\n",
    "    elif cinquenta == 1:\n",
    "        print(f'{cinquenta} nota de 50')\n",
    "    if dez > 1:\n",
    "        print(f'{dez} notas de 10')\n",
    "    elif dez == 1:\n",
    "        print(f'{dez} nota de 10')\n",
    "    if cinco > 1:\n",
    "        print(f'{cinco} notas de 5')\n",
    "    elif cinco == 1:\n",
    "        print(f'{cinco} nota de 5')\n",
    "    if um > 1:\n",
    "        print(f'{um} notas de 1')\n",
    "    elif um == 1:\n",
    "        print(f'{um} nota de 1')"
   ]
  },
  {
   "cell_type": "code",
   "execution_count": 20,
   "id": "5ed71cc5",
   "metadata": {},
   "outputs": [
    {
     "name": "stdout",
     "output_type": "stream",
     "text": [
      "Digite um número inteiro: 7\n",
      "7 é ÍMPAR.\n"
     ]
    }
   ],
   "source": [
    "\"\"\"\n",
    "22 Faça um Programa que peça um número inteiro e determine se ele é par ou impar. Dica: utilize o operador módulo (resto da divisão). \n",
    "\"\"\"\n",
    "\n",
    "numero = int(input('Digite um número inteiro: '))\n",
    "if numero % 2 == 0:\n",
    "    print(f'{numero} é PAR.')\n",
    "else:\n",
    "    print(f'{numero} é ÍMPAR.')"
   ]
  },
  {
   "cell_type": "code",
   "execution_count": 9,
   "id": "0402d43a",
   "metadata": {},
   "outputs": [
    {
     "name": "stdout",
     "output_type": "stream",
     "text": [
      "Digite um Número: 5.5\n",
      "5.5 é um número decimal.\n"
     ]
    }
   ],
   "source": [
    "\"\"\"\n",
    "23 - Faça um Programa que peça um número e informe se o número é inteiro ou decimal. Dica: utilize uma função de arredondamento. \n",
    "\"\"\"\n",
    "\n",
    "numero = float(input('Digite um Número: '))\n",
    "if numero == round(numero):\n",
    "    numero = int(numero)\n",
    "    print(numero, 'é um número inteiro.')\n",
    "else:\n",
    "    print(numero, 'é um número decimal.')\n"
   ]
  },
  {
   "cell_type": "code",
   "execution_count": 70,
   "id": "eaf3ace7",
   "metadata": {},
   "outputs": [
    {
     "name": "stdout",
     "output_type": "stream",
     "text": [
      "Digite um numero: 5\n",
      "Digite outro número: 5\n",
      "Qual operação você quer realizar? multiplicação\n",
      "multiplicação <class 'str'>\n",
      "O resultado é 25, um número inteiro.\n"
     ]
    }
   ],
   "source": [
    "\"\"\"\n",
    "24 - Faça um Programa que leia 2 números e em seguida pergunte ao usuário qual operação ele deseja realizar.\n",
    "O resultado da operação deve ser acompanhado de uma frase que diga se o número é: \n",
    "par ou ímpar;\n",
    "positivo ou negativo;\n",
    "inteiro ou decimal. \n",
    "\"\"\"\n",
    "n1 = float(input('Digite um numero: '))\n",
    "n2 = float(input('Digite outro número: '))\n",
    "operador = input('Qual operação você quer realizar? ')\n",
    "print(operador, type(operador))\n",
    "if operador == 'soma':\n",
    "    resultado = n1 + n2\n",
    "    if resultado % 2 == 0:\n",
    "        print(f'Soma de {n1} + {n2} = {resultado}. É um número Par')\n",
    "    else:\n",
    "        print(f'Soma de {n1} + {n2} = {resultado}. É um número Ímpar')\n",
    "if operador == 'subtração':\n",
    "    resultado = n1 - n2\n",
    "    if resultado >= 0:\n",
    "        print(f'O resultado é {resultado}. É um número positivo')\n",
    "    else:\n",
    "        print(f'O resultado é {resultado}. É um número negativo')\n",
    "if operador == 'multiplicação':\n",
    "    resultado = n1 * n2\n",
    "    if resultado == round(resultado):\n",
    "        resultado = int(resultado)\n",
    "        print(f'O resultado é {resultado}, um número inteiro.')\n",
    "    else:\n",
    "        print(f'O resultado é {resultado}, um número decimal.')"
   ]
  },
  {
   "cell_type": "code",
   "execution_count": 2,
   "id": "6dea2de7",
   "metadata": {},
   "outputs": [
    {
     "name": "stdout",
     "output_type": "stream",
     "text": [
      "Qual é o nome da vítima? Afonso\n",
      "Digite 1 para sim e 0 para não:\n",
      "Você telefonou para a vítima? 1\n",
      "Você esteve no local do crime? 0\n",
      "Você Mora perto da vítima? 1\n",
      "Você devia para a vítima? 0\n",
      "Você já trabalhou com a vítima? 1\n",
      "O entrevistado é cúmplice. Respondeu positivamente 3 questões.\n"
     ]
    }
   ],
   "source": [
    "\"\"\"\n",
    "25 - Faça um programa que faça 5 perguntas para uma pessoa sobre um crime. As perguntas são: \n",
    "\"Telefonou para a vítima?\"\n",
    "\"Esteve no local do crime?\"\n",
    "\"Mora perto da vítima?\"\n",
    "\"Devia para a vítima?\"\n",
    "\"Já trabalhou com a vítima?\"\n",
    "O programa deve no final emitir uma classificação sobre a participação da pessoa no crime.\n",
    "Se a pessoa responder positivamente a 2 questões ela deve ser classificada como \"Suspeita\", entre 3 e 4 como \"Cúmplice\" e\n",
    "5 como \"Assassino\". Caso contrário, ele será classificado como \"Inocente\". \n",
    "\n",
    "\"\"\"\n",
    "\n",
    "\n",
    "nome = input('Qual é o nome da vítima? ')\n",
    "print('Digite 1 para sim e 0 para não:')\n",
    "p1 = int(input('Você telefonou para a vítima? '))\n",
    "p2 = int(input('Você esteve no local do crime? '))\n",
    "p3 = int(input('Você Mora perto da vítima? '))\n",
    "p4 = int(input('Você devia para a vítima? '))\n",
    "p5 = int(input('Você já trabalhou com a vítima? '))\n",
    "\n",
    "resultado = p1 + p2 + p3 + p4 + p5\n",
    "\n",
    "if resultado == 2:\n",
    "    print('O entrevistado é suspeito. Respondeu positivamente duas questões.')\n",
    "if resultado == 3 or resultado == 4:\n",
    "    print(f'O entrevistado é cúmplice. Respondeu positivamente {resultado} questões.')\n",
    "if resultado == 5:\n",
    "    print(f'O entrevistado é o Assassino. Ele respondeu positivamente todas as questões.')\n",
    "if resultado == 0:\n",
    "    print(f'O entrevistado é inocente.')"
   ]
  },
  {
   "cell_type": "code",
   "execution_count": 96,
   "id": "979eb4c9",
   "metadata": {},
   "outputs": [
    {
     "name": "stdout",
     "output_type": "stream",
     "text": [
      "Qantos litros de combustível você comprará? 5\n",
      "Qual combustível você vai comprar? \"A - Alcool\" ou \"G - Gasolina\"? G\n",
      "Você comprou 5.0 de Gasolina. O valor a ser pago é de R$12.0.\n"
     ]
    }
   ],
   "source": [
    "\"\"\"\n",
    "26 - Um posto está vendendo combustíveis com a seguinte tabela de descontos: \n",
    "\n",
    "Álcool:\n",
    "até 20 litros, desconto de 3% por litro\n",
    "acima de 20 litros, desconto de 5% por litro\n",
    "\n",
    "Gasolina:\n",
    "até 20 litros, desconto de 4% por litro\n",
    "acima de 20 litros, desconto de 6% por litro\n",
    "Escreva um algoritmo que leia o número de litros vendidos, o tipo de combustível (codificado da seguinte forma:\n",
    "A-álcool, G-gasolina), calcule e imprima o valor a ser pago pelo cliente sabendo-se que o preço\n",
    "do litro da gasolina é R$ 2,50 o preço do litro do álcool é R$ 1,90. \n",
    "\"\"\"\n",
    "#combustível e preço\n",
    "litros = float(input('Qantos litros de combustível você comprará? '))\n",
    "gasolina = 2.50\n",
    "alcool = 1.90\n",
    "combustivel = input('Qual combustível você vai comprar? \"A - Alcool\" ou \"G - Gasolina\"? ')\n",
    "\n",
    "\n",
    "if combustivel == \"A\":\n",
    "    combustivel = \"Alcool\"\n",
    "    if litros <= 20:\n",
    "        valor = litros * alcool\n",
    "        desconto = valor * 0.03\n",
    "        novo_valor = valor - desconto\n",
    "        print(f'Você comprou {litros} litros de {combustivel}. O valor a ser pago é de R${novo_valor}.')\n",
    "    else:\n",
    "        valor = litros * alcool\n",
    "        desconto = valor * 0.05\n",
    "        novo_valor = valor - desconto\n",
    "        print(f'Você comprou {litros} litros de {combustivel}. O valor a ser pago é de R${novo_valor}.')\n",
    "\n",
    "if combustivel == \"G\":\n",
    "    combustivel = \"Gasolina\"\n",
    "    if litros <= 20:\n",
    "        valor = litros * gasolina\n",
    "        desconto = valor * 0.04\n",
    "        novo_valor = valor - desconto\n",
    "        print(f'Você comprou {litros} litros de {combustivel}. O valor a ser pago é de R${novo_valor}.')\n",
    "    else:\n",
    "        valor = litros * gasolina\n",
    "        desconto = valor * 0.06\n",
    "        novo_valor = valor - desconto\n",
    "        print(f'Você comprou {litros} litros de {combustivel}. O valor a ser pago é de R${novo_valor}.')"
   ]
  },
  {
   "cell_type": "code",
   "execution_count": 48,
   "id": "919d9868",
   "metadata": {},
   "outputs": [
    {
     "name": "stdout",
     "output_type": "stream",
     "text": [
      "Quantos Kg de Morango você comprará? 10\n",
      "Quantos Kg de Maça você comprará? 10\n",
      "Você comprou 10.0Kg de Morangos e 10.0Kg de Maçãs.\n",
      "O valor total a ser pago é de R$33.3.\n"
     ]
    }
   ],
   "source": [
    "\"\"\"\n",
    "27 - Uma fruteira está vendendo frutas com a seguinte tabela de preços: \n",
    "                   Até 5 Kg              Acima de 5 Kg\n",
    "Morango         R$ 2,50 por Kg          R$ 2,20 por Kg\n",
    "Maçã            R$ 1,80 por Kg          R$ 1,50 por Kg\n",
    "\n",
    "Se o cliente comprar mais de 8 Kg em frutas ou o valor total da compra ultrapassar R$ 25,00, receberá ainda um desconto de 10%\n",
    "sobre este total. Escreva um algoritmo para ler a quantidade (em Kg) de morangos e a quantidade (em Kg) de maças adquiridas e\n",
    "escreva o valor a ser pago pelo cliente. \n",
    "\"\"\"\n",
    "\n",
    "# até 5kg\n",
    "morango = 2.50\n",
    "maca = 1.80\n",
    "\n",
    "kgmorango = float(input('Quantos Kg de Morango você comprará? '))\n",
    "kgmaca = float(input('Quantos Kg de Maça você comprará? '))\n",
    "\n",
    "if kgmorango > 5:\n",
    "    morango = 2.20\n",
    "if kgmaca > 5:\n",
    "    maca = 1.50\n",
    "    \n",
    "valor = kgmorango * morango + kgmaca*maca\n",
    "kgtotal = kgmorango + kgmaca\n",
    "if kgtotal > 8 or valor > 25:\n",
    "    desconto = valor * 0.10\n",
    "    novo_valor = valor - desconto\n",
    "    print(f'Você comprou {kgmorango}Kg de Morangos e {kgmaca}Kg de Maçãs.')\n",
    "    print(f'O valor total a ser pago é de R${novo_valor}.')\n",
    "else:\n",
    "    print(f'Você comprou {kgmorango}Kg de Morangos e {kgmaca}Kg de Maçãs.')\n",
    "    print(f'O valor total a ser pago é de R${valor}.')\n"
   ]
  },
  {
   "cell_type": "code",
   "execution_count": 58,
   "id": "92168eef",
   "metadata": {},
   "outputs": [
    {
     "name": "stdout",
     "output_type": "stream",
     "text": [
      "Escolha o tipo da carne:\n",
      "1 - Filé Duplo\n",
      "2 - Alcatra\n",
      "3 - Picanha\n",
      "Escolha o tipo da Carne: 2\n",
      "Quantos Kg você gostaria? 10\n",
      "O pagamento será efetuado com o Cartão Tabajara? 1 - Sim / 2 - Não: 2\n",
      "\n",
      "============ Cupom Fiscal ============\n",
      "Tipo de carne comprada: Alcatra\n",
      "Quantidade comprada: 10.0Kg\n",
      "Preço bruto: R$59.0\n",
      "Pagamento com Cartão Tabajara: 2 - Não\n",
      "Sem desconto adicional do Cartão Tabajara\n",
      "Valor total da compra: R$59.0\n",
      "======================================\n"
     ]
    }
   ],
   "source": [
    "\"\"\"\n",
    "28 - O Hipermercado Tabajara está com uma promoção de carnes que é imperdível. Confira: \n",
    "                    Até 5 Kg             Acima de 5 Kg\n",
    "File Duplo      R$ 5,80 por Kg          R$ 4,90 por Kg\n",
    "Alcatra         R$ 6,80 por Kg          R$ 5,90 por Kg\n",
    "Picanha         R$ 7,80 por Kg          R$ 6,90 por Kg\n",
    "\n",
    "Para atender a todos os clientes, cada cliente poderá levar apenas um dos tipos de carne da promoção, porém não há limites\n",
    "para a quantidade de carne por cliente. Se compra for feita no cartão Tabajara o cliente receberá ainda um desconto de 5%\n",
    "sobre o total da compra. Escreva um programa que peça o tipo e a quantidade de carne comprada pelo usuário e gere um cupom \n",
    "fiscal, contendo as informações da compra: tipo e quantidade de carne, preço total, tipo de pagamento, valor do desconto \n",
    "e valor a pagar. \n",
    "\"\"\"\n",
    "\n",
    "# Escolher o tipo da carne\n",
    "print('Escolha o tipo da carne:')\n",
    "print('1 - Filé Duplo')\n",
    "print('2 - Alcatra')\n",
    "print('3 - Picanha')\n",
    "tipo = int(input('Escolha o tipo da Carne: '))\n",
    "\n",
    "# Quantidade\n",
    "quantidade = float(input('Quantos Kg você gostaria? '))\n",
    "\n",
    "# Pagamento\n",
    "cartao = int(input('O pagamento será efetuado com o Cartão Tabajara? 1 - Sim / 2 - Não: '))\n",
    "\n",
    "if tipo == 1:\n",
    "    carne = 'Filé Duplo'\n",
    "    if quantidade <= 5:\n",
    "        valor = quantidade * 5.80\n",
    "    else:\n",
    "        valor = quantidade * 4.90\n",
    "elif tipo == 2:\n",
    "    carne = 'Alcatra'\n",
    "    if quantidade <= 5:\n",
    "        valor = quantidade * 6.80\n",
    "    else:\n",
    "        valor = quantidade * 5.90\n",
    "else:\n",
    "    carne = 'Picanha'\n",
    "    if quantidade <= 5:\n",
    "        valor = quantidade * 7.80\n",
    "    else:\n",
    "        valor = quantidade * 6.90\n",
    "print('')\n",
    "\n",
    "desconto = 0\n",
    "\n",
    "if cartao == 1:\n",
    "    desconto = valor * 0.05\n",
    "    novo_valor = valor - desconto\n",
    "    print('============ Cupom Fiscal ============')\n",
    "    print(f'Tipo de carne comprada: {carne}')\n",
    "    print(f'Quantidade comprada: {quantidade}Kg')\n",
    "    print(f'Preço bruto: R$ {valor}')\n",
    "    print(f'Pagamento com cartão: 1 - Sim')\n",
    "    print(f'Desconto de 5% aplicado: R${desconto}')\n",
    "    print(f'Valor total da compra: R${novo_valor}')\n",
    "    print('======================================')\n",
    "\n",
    "if cartao == 2:\n",
    "    print('============ Cupom Fiscal ============')\n",
    "    print(f'Tipo de carne comprada: {carne}')\n",
    "    print(f'Quantidade comprada: {quantidade}Kg')\n",
    "    print(f'Preço bruto: R${valor}')\n",
    "    print('Pagamento com Cartão Tabajara: 2 - Não')\n",
    "    print(f'Sem desconto adicional do Cartão Tabajara')\n",
    "    print(f'Valor total da compra: R${valor}')\n",
    "    print('======================================')\n",
    "\n"
   ]
  },
  {
   "cell_type": "code",
   "execution_count": null,
   "id": "40789412",
   "metadata": {},
   "outputs": [],
   "source": []
  }
 ],
 "metadata": {
  "kernelspec": {
   "display_name": "Python 3",
   "language": "python",
   "name": "python3"
  },
  "language_info": {
   "codemirror_mode": {
    "name": "ipython",
    "version": 3
   },
   "file_extension": ".py",
   "mimetype": "text/x-python",
   "name": "python",
   "nbconvert_exporter": "python",
   "pygments_lexer": "ipython3",
   "version": "3.8.8"
  }
 },
 "nbformat": 4,
 "nbformat_minor": 5
}
